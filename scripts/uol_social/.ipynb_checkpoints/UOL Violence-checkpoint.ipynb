{
 "cells": [
  {
   "cell_type": "code",
   "execution_count": 290,
   "metadata": {
    "collapsed": false
   },
   "outputs": [],
   "source": [
    "from bs4 import BeautifulSoup\n",
    "from selenium import webdriver\n",
    "from selenium.common.exceptions import NoSuchElementException  \n",
    "from selenium.webdriver.common.keys import Keys\n",
    "from urllib.request import urlopen\n",
    "import json\n",
    "from pymongo import MongoClient\n",
    "import datetime"
   ]
  },
  {
   "cell_type": "code",
   "execution_count": 284,
   "metadata": {
    "collapsed": false
   },
   "outputs": [],
   "source": [
    "client = MongoClient('localhost', 27017)\n",
    "db = client.social\n",
    "collection = db.social"
   ]
  },
  {
   "cell_type": "markdown",
   "metadata": {},
   "source": [
    "###Opção simulando navegador"
   ]
  },
  {
   "cell_type": "code",
   "execution_count": 285,
   "metadata": {
    "collapsed": false
   },
   "outputs": [],
   "source": [
    "## Essa editoria começou no dia 24 de novembro de 2010"
   ]
  },
  {
   "cell_type": "code",
   "execution_count": 286,
   "metadata": {
    "collapsed": false
   },
   "outputs": [
    {
     "name": "stdout",
     "output_type": "stream",
     "text": [
      "1\n",
      "2015-07-03T09:32\n",
      "2\n",
      "3\n",
      "4\n",
      "5\n",
      "2015-07-02T14:01\n",
      "6\n",
      "7\n",
      "2015-07-01T18:06\n",
      "8\n",
      "9\n",
      "10\n",
      "11\n",
      "12\n",
      "13\n",
      "14\n",
      "15\n",
      "2015-06-30T19:53\n",
      "16\n",
      "17\n",
      "18\n",
      "19\n",
      "20\n",
      "21\n",
      "22\n",
      "2015-06-29T19:34\n",
      "23\n",
      "24\n",
      "25\n",
      "2015-06-26T16:07\n",
      "26\n",
      "27\n",
      "28\n",
      "29\n",
      "2015-06-25T15:01\n",
      "30\n",
      "2015-06-24T17:50\n",
      "31\n",
      "2015-04-27T09:50\n",
      "32\n",
      "2015-04-26T14:08\n",
      "33\n",
      "34\n",
      "2015-04-24T12:02\n",
      "35\n",
      "36\n",
      "37\n",
      "2015-04-23T13:27\n",
      "38\n",
      "2015-04-22T11:51\n",
      "39\n",
      "40\n",
      "2015-04-20T11:34\n",
      "41\n",
      "42\n",
      "2015-04-19T14:54\n",
      "43\n",
      "44\n",
      "2015-04-18T13:27\n",
      "45\n",
      "46\n",
      "47\n",
      "48\n",
      "2015-04-17T17:56\n",
      "49\n",
      "50\n",
      "51\n",
      "52\n",
      "2015-04-16T21:07\n",
      "53\n",
      "54\n",
      "55\n",
      "2015-04-15T15:30\n",
      "56\n",
      "2015-04-14T22:16\n",
      "57\n",
      "58\n",
      "2015-04-13T20:01\n",
      "59\n",
      "60\n",
      "2015-04-12T19:15\n",
      "61\n",
      "2014-08-11T12:29\n",
      "62\n",
      "63\n",
      "2014-08-08T16:03\n",
      "64\n",
      "65\n",
      "66\n",
      "2014-08-07T15:01\n",
      "67\n",
      "68\n",
      "69\n",
      "70\n",
      "71\n",
      "2014-08-06T15:17\n",
      "72\n",
      "73\n",
      "2014-08-05T14:01\n",
      "74\n",
      "75\n",
      "76\n",
      "77\n",
      "2014-08-04T11:29\n",
      "78\n",
      "2014-08-02T12:21\n",
      "79\n",
      "80\n",
      "81\n",
      "2014-08-01T15:37\n",
      "82\n",
      "83\n",
      "84\n",
      "2014-07-31T16:02\n",
      "85\n",
      "2014-07-30T11:23\n",
      "86\n",
      "2014-07-29T11:35\n",
      "87\n",
      "88\n",
      "2014-07-28T10:47\n",
      "89\n",
      "90\n",
      "2014-07-27T16:57\n",
      "91\n",
      "92\n",
      "93\n",
      "94\n",
      "95\n",
      "2014-03-18T13:04\n",
      "96\n",
      "97\n",
      "98\n",
      "99\n",
      "100\n",
      "101\n",
      "102\n",
      "103\n",
      "2014-03-17T21:38\n",
      "104\n",
      "2014-03-14T17:35\n",
      "105\n",
      "106\n",
      "107\n",
      "108\n",
      "109\n",
      "110\n",
      "2014-03-13T14:18\n",
      "111\n",
      "112\n",
      "2014-03-12T16:43\n",
      "113\n",
      "114\n",
      "115\n",
      "2014-03-11T21:57\n",
      "116\n",
      "117\n",
      "2014-03-10T15:15\n",
      "118\n",
      "119\n",
      "2014-03-07T16:20\n",
      "120\n",
      "2014-03-06T13:28\n",
      "121\n",
      "2012-04-05T08:20\n",
      "122\n",
      "2012-03-09T17:40\n",
      "123\n",
      "2012-02-16T16:26\n",
      "124\n",
      "2012-01-20T08:24\n",
      "125\n",
      "126\n",
      "2012-01-16T12:06\n",
      "127\n",
      "2012-01-09T13:31\n",
      "128\n",
      "2011-12-28T12:59\n",
      "129\n",
      "2011-12-27T09:05\n",
      "130\n",
      "131\n",
      "2011-12-21T21:45\n",
      "132\n",
      "2011-12-20T12:19\n",
      "133\n",
      "134\n",
      "2011-12-19T20:00\n",
      "135\n",
      "2011-12-12T11:54\n",
      "136\n",
      "2011-12-07T11:45\n",
      "137\n",
      "2011-12-01T15:03\n",
      "138\n",
      "2011-11-29T13:22\n",
      "139\n",
      "140\n",
      "141\n",
      "2011-11-28T14:11\n",
      "142\n",
      "143\n",
      "144\n",
      "145\n",
      "2011-11-25T17:07\n",
      "146\n",
      "147\n",
      "2011-11-24T22:00\n",
      "148\n",
      "2011-11-22T09:15\n",
      "149\n",
      "150\n",
      "2011-11-17T18:23\n",
      "151\n",
      "152\n",
      "153\n",
      "154\n",
      "155\n",
      "156\n",
      "157\n",
      "158\n",
      "159\n",
      "160\n"
     ]
    }
   ],
   "source": [
    "browser = webdriver.Firefox()\n",
    "browser2 = webdriver.Firefox()  \n",
    "browser.get('http://noticias.uol.com.br/cotidiano/temas/violencia-no-rio/noticias/')\n",
    "page = browser.page_source  \n",
    "soup_main = BeautifulSoup(page,'html.parser')\n",
    "controle = True\n",
    "count = 0\n",
    "while controle:\n",
    "    for day in soup_main.find(\"div\", {\"class\":\"itens-indice ultnot geral \"}).section.find_all(\"section\"):\n",
    "        for article in day.find_all(\"article\"):\n",
    "            count += 1\n",
    "            link = article.a[\"href\"]\n",
    "            titulo = article.span.contents[0]\n",
    "            date = article.time[\"datetime\"]\n",
    "            \n",
    "            browser2.get('https://cdn.api.twitter.com/1/urls/count.json?url='+link)\n",
    "            page = browser2.page_source\n",
    "            soup = BeautifulSoup(page,'html.parser')\n",
    "            count_tw = json.loads(soup.pre.contents[0])[\"count\"]\n",
    "    \n",
    "            browser2.get('https://graph.facebook.com/?id='+link)\n",
    "            page = browser2.page_source\n",
    "            soup = BeautifulSoup(page,'html.parser')\n",
    "            try:\n",
    "                count_fb = json.loads(soup.pre.contents[0])[\"shares\"]\n",
    "            except Exception:\n",
    "                count_fb=0\n",
    "    \n",
    "            collection.insert({'date': datetime.strptime(date, '%Y-%m-%dT%H:%M'), 'link': link, 'title': titulo, 'count_fb': count_fb, 'count_tw':count_tw, 'count_t': count_fb +count_tw})\n",
    "            print(count)\n",
    "        if day.header.h2.time[\"datetime\"]==\"2010-11-24T22:24\":\n",
    "            controle = False\n",
    "        else:\n",
    "            print(day.header.h2.time[\"datetime\"])\n",
    "            \n",
    "        link = browser.find_element_by_link_text('Próxima')\n",
    "        link.click()\n",
    "        page = browser.page_source\n",
    "        soup_main = BeautifulSoup(page,'html.parser')\n",
    "        \n",
    "browser.quit()\n",
    "browser2.quit()"
   ]
  },
  {
   "cell_type": "markdown",
   "metadata": {},
   "source": [
    "##### Gera json da visualização multi bar chart"
   ]
  },
  {
   "cell_type": "code",
   "execution_count": 305,
   "metadata": {
    "collapsed": false
   },
   "outputs": [
    {
     "name": "stdout",
     "output_type": "stream",
     "text": [
      "[{\"values\": [{\"x\": 0, \"title\": \" Entregador de pizza morto durante a\\u00e7\\u00e3o do Bope tinha dois empregos \", \"y\": 8128}, {\"x\": 1, \"title\": \" Redu\\u00e7\\u00e3o da maioridade \\u00e9 'racista', diz m\\u00e3e de jovem acusado no caso Jaime Gold \", \"y\": 1492}, {\"x\": 2, \"title\": \" Ex\\u00e9rcito e fuzileiros planejam ocupar quatro favelas durante a Rio-2016 \", \"y\": 372}, {\"x\": 3, \"title\": \" Justi\\u00e7a condena dois adolescentes por morte de m\\u00e9dico esfaqueado no Rio \", \"y\": 22}, {\"x\": 4, \"title\": \" Assassinato de entregador de pizza gera protesto e passeata pelo Rio \", \"y\": 60}, {\"x\": 5, \"title\": \" Entregador de pizza \\u00e9 morto em confronto entre PMs e traficantes no Rio \", \"y\": 1}, {\"x\": 6, \"title\": \" Justi\\u00e7a do Rio determina fim da apresenta\\u00e7\\u00e3o de presos \\u00e0 imprensa \", \"y\": 11}, {\"x\": 7, \"title\": \" Ap\\u00f3s esfaqueamentos, Pez\\u00e3o sanciona lei que pro\\u00edbe porte de arma branca \", \"y\": 105}, {\"x\": 8, \"title\": \" Mulher de Beira-Mar voltar\\u00e1 ao regime fechado por decis\\u00e3o da Justi\\u00e7a do Rio \", \"y\": 26}, {\"x\": 9, \"title\": \" PM de folga reage a tentativa de roubo a banco no Rio, e dois morrem \", \"y\": 3}, {\"x\": 10, \"title\": \" Major diz que \\u00e9 inocente e que traficantes mataram Amarildo \", \"y\": 32}, {\"x\": 11, \"title\": \" Pol\\u00edcia Civil prende suspeito de ter matado homem em lan house no Rio \", \"y\": 0}, {\"x\": 12, \"title\": \" For\\u00e7as Armadas deixam Mar\\u00e9 ap\\u00f3s 15 meses, 8 mortes e incont\\u00e1veis tiroteios \", \"y\": 31}, {\"x\": 13, \"title\": \" PM nega \\u00e0 Civil imagens de ve\\u00edculo de policiais suspeitos de morte no Rio \", \"y\": 6}, {\"x\": 14, \"title\": \" Moradores narram tiroteios di\\u00e1rios na Mar\\u00e9: \\\"ficamos em casa que nem bicho\\\" \", \"y\": 25}, {\"x\": 15, \"title\": \" Crian\\u00e7a \\u00e9 atingida por bala perdida no Complexo do Alem\\u00e3o \", \"y\": 2}, {\"x\": 16, \"title\": \" Criminosos fazem ref\\u00e9ns em assalto a banco na zona oeste do Rio \", \"y\": 1}, {\"x\": 17, \"title\": \" PM de folga reage e atira em dois suspeitos dentro de trem no Rio \", \"y\": 6}, {\"x\": 18, \"title\": \" Rio de Janeiro teve uma apreens\\u00e3o de fuzil por dia em 2015 \", \"y\": 22}, {\"x\": 19, \"title\": \" Seis ficam feridos ap\\u00f3s persegui\\u00e7\\u00e3o e tiroteio na zona norte do Rio \", \"y\": 8}, {\"x\": 20, \"title\": \" Policial morre ap\\u00f3s ser baleado em favela com UPP no Rio \", \"y\": 9}, {\"x\": 21, \"title\": \" Mulher e menino s\\u00e3o baleados em tiroteio no Complexo do Alem\\u00e3o, no Rio \", \"y\": 2}, {\"x\": 22, \"title\": \" Pol\\u00edcia prende suspeito de ter come\\u00e7ado 1\\u00ba tiroteio na UPP Santa Marta \", \"y\": 0}, {\"x\": 23, \"title\": \" Entregador morto durante opera\\u00e7\\u00e3o do Bope \\u00e9 enterrado no Rio \", \"y\": 0}, {\"x\": 24, \"title\": \" Ocupa\\u00e7\\u00e3o das For\\u00e7as Armadas na Mar\\u00e9 acaba ap\\u00f3s usar 85% do efetivo do Haiti \", \"y\": 4}, {\"x\": 25, \"title\": \" Policiais s\\u00e3o presos acusados de integrar mil\\u00edcia no Rio \", \"y\": 1}, {\"x\": 26, \"title\": \" Homem \\u00e9 morto ap\\u00f3s ter carro alvejado por 20 tiros no Rio \", \"y\": 1}, {\"x\": 27, \"title\": \" Pol\\u00edcia Militar diz que n\\u00e3o houve ref\\u00e9ns em assalto a banco no Rio \", \"y\": 0}, {\"x\": 28, \"title\": \" Dois suspeitos s\\u00e3o mortos em opera\\u00e7\\u00e3o da PM na zona norte do Rio \", \"y\": 0}, {\"x\": 29, \"title\": \" Policial e adolescente s\\u00e3o feridos em tiroteio no Morro da Mineira, no Rio \", \"y\": 0}], \"key\": \"Facebook\"}, {\"values\": [{\"x\": 0, \"title\": \" Entregador de pizza morto durante a\\u00e7\\u00e3o do Bope tinha dois empregos \", \"y\": 18}, {\"x\": 1, \"title\": \" Redu\\u00e7\\u00e3o da maioridade \\u00e9 'racista', diz m\\u00e3e de jovem acusado no caso Jaime Gold \", \"y\": 9}, {\"x\": 2, \"title\": \" Ex\\u00e9rcito e fuzileiros planejam ocupar quatro favelas durante a Rio-2016 \", \"y\": 38}, {\"x\": 3, \"title\": \" Justi\\u00e7a condena dois adolescentes por morte de m\\u00e9dico esfaqueado no Rio \", \"y\": 284}, {\"x\": 4, \"title\": \" Assassinato de entregador de pizza gera protesto e passeata pelo Rio \", \"y\": 244}, {\"x\": 5, \"title\": \" Entregador de pizza \\u00e9 morto em confronto entre PMs e traficantes no Rio \", \"y\": 247}, {\"x\": 6, \"title\": \" Justi\\u00e7a do Rio determina fim da apresenta\\u00e7\\u00e3o de presos \\u00e0 imprensa \", \"y\": 178}, {\"x\": 7, \"title\": \" Ap\\u00f3s esfaqueamentos, Pez\\u00e3o sanciona lei que pro\\u00edbe porte de arma branca \", \"y\": 61}, {\"x\": 8, \"title\": \" Mulher de Beira-Mar voltar\\u00e1 ao regime fechado por decis\\u00e3o da Justi\\u00e7a do Rio \", \"y\": 57}, {\"x\": 9, \"title\": \" PM de folga reage a tentativa de roubo a banco no Rio, e dois morrem \", \"y\": 65}, {\"x\": 10, \"title\": \" Major diz que \\u00e9 inocente e que traficantes mataram Amarildo \", \"y\": 24}, {\"x\": 11, \"title\": \" Pol\\u00edcia Civil prende suspeito de ter matado homem em lan house no Rio \", \"y\": 54}, {\"x\": 12, \"title\": \" For\\u00e7as Armadas deixam Mar\\u00e9 ap\\u00f3s 15 meses, 8 mortes e incont\\u00e1veis tiroteios \", \"y\": 14}, {\"x\": 13, \"title\": \" PM nega \\u00e0 Civil imagens de ve\\u00edculo de policiais suspeitos de morte no Rio \", \"y\": 36}, {\"x\": 14, \"title\": \" Moradores narram tiroteios di\\u00e1rios na Mar\\u00e9: \\\"ficamos em casa que nem bicho\\\" \", \"y\": 15}, {\"x\": 15, \"title\": \" Crian\\u00e7a \\u00e9 atingida por bala perdida no Complexo do Alem\\u00e3o \", \"y\": 34}, {\"x\": 16, \"title\": \" Criminosos fazem ref\\u00e9ns em assalto a banco na zona oeste do Rio \", \"y\": 31}, {\"x\": 17, \"title\": \" PM de folga reage e atira em dois suspeitos dentro de trem no Rio \", \"y\": 20}, {\"x\": 18, \"title\": \" Rio de Janeiro teve uma apreens\\u00e3o de fuzil por dia em 2015 \", \"y\": 1}, {\"x\": 19, \"title\": \" Seis ficam feridos ap\\u00f3s persegui\\u00e7\\u00e3o e tiroteio na zona norte do Rio \", \"y\": 13}, {\"x\": 20, \"title\": \" Policial morre ap\\u00f3s ser baleado em favela com UPP no Rio \", \"y\": 10}, {\"x\": 21, \"title\": \" Mulher e menino s\\u00e3o baleados em tiroteio no Complexo do Alem\\u00e3o, no Rio \", \"y\": 6}, {\"x\": 22, \"title\": \" Pol\\u00edcia prende suspeito de ter come\\u00e7ado 1\\u00ba tiroteio na UPP Santa Marta \", \"y\": 5}, {\"x\": 23, \"title\": \" Entregador morto durante opera\\u00e7\\u00e3o do Bope \\u00e9 enterrado no Rio \", \"y\": 5}, {\"x\": 24, \"title\": \" Ocupa\\u00e7\\u00e3o das For\\u00e7as Armadas na Mar\\u00e9 acaba ap\\u00f3s usar 85% do efetivo do Haiti \", \"y\": 1}, {\"x\": 25, \"title\": \" Policiais s\\u00e3o presos acusados de integrar mil\\u00edcia no Rio \", \"y\": 0}, {\"x\": 26, \"title\": \" Homem \\u00e9 morto ap\\u00f3s ter carro alvejado por 20 tiros no Rio \", \"y\": 0}, {\"x\": 27, \"title\": \" Pol\\u00edcia Militar diz que n\\u00e3o houve ref\\u00e9ns em assalto a banco no Rio \", \"y\": 0}, {\"x\": 28, \"title\": \" Dois suspeitos s\\u00e3o mortos em opera\\u00e7\\u00e3o da PM na zona norte do Rio \", \"y\": 0}, {\"x\": 29, \"title\": \" Policial e adolescente s\\u00e3o feridos em tiroteio no Morro da Mineira, no Rio \", \"y\": 0}], \"key\": \"Twitter\"}]\n"
     ]
    }
   ],
   "source": [
    "client = MongoClient('localhost', 27017)\n",
    "db = client.social\n",
    "collection = db.social\n",
    "startdata = datetime.datetime.now() - datetime.timedelta(days=30)\n",
    "result = [{\"key\":\"Facebook\", \"values\":[]}, {\"key\":\"Twitter\", \"values\":[]}]\n",
    "count = 0\n",
    "for article in collection.find({'date': {'$gte': startdata }}).sort(\"count_t\", -1 ).limit(30):\n",
    "    result[0][\"values\"].append({'x':count, 'y':article['count_fb'], 'title':article['title']})\n",
    "    result[1][\"values\"].append({'x':count, 'y':article['count_tw'], 'title':article['title']})\n",
    "    count += 1\n",
    "print(json.dumps(result))"
   ]
  },
  {
   "cell_type": "code",
   "execution_count": 296,
   "metadata": {
    "collapsed": false
   },
   "outputs": [
    {
     "data": {
      "text/plain": [
       "<pymongo.cursor.Cursor at 0x7f36b84617f0>"
      ]
     },
     "execution_count": 296,
     "metadata": {},
     "output_type": "execute_result"
    }
   ],
   "source": []
  },
  {
   "cell_type": "markdown",
   "metadata": {},
   "source": [
    "###Old"
   ]
  },
  {
   "cell_type": "code",
   "execution_count": 197,
   "metadata": {
    "collapsed": false
   },
   "outputs": [],
   "source": [
    "result = [{\"key\": \"Facebook\", \"values\": []}, {\"key\": \"Twitter\", \"values\": []}]\n",
    "count = 0\n",
    "for article in soup_main.find(\"div\", {\"class\":\"itens-indice ultnot geral \"}).section.section.find_all(\"article\"):\n",
    "    link = article.a[\"href\"]\n",
    "    titulo = article.span.contents[0]\n",
    "    browser.get('https://cdn.api.twitter.com/1/urls/count.json?url='+link)\n",
    "    page = browser.page_source\n",
    "    soup = BeautifulSoup(page,'html.parser')\n",
    "    count_tw = json.loads(soup.pre.contents[0])[\"count\"]\n",
    "    \n",
    "    browser.get('https://graph.facebook.com/?id='+link)\n",
    "    page = browser.page_source\n",
    "    soup = BeautifulSoup(page,'html.parser')\n",
    "    try:\n",
    "        count_fb = json.loads(soup.pre.contents[0])[\"shares\"]\n",
    "    except Exception:\n",
    "        count_fb=0\n",
    "    result[0]['values'].append({'x':count, 'y':count_fb, 'title':titulo})\n",
    "    result[1]['values'].append({'x':count, 'y':count_tw, 'title':titulo})\n",
    "    count += 1"
   ]
  },
  {
   "cell_type": "code",
   "execution_count": 198,
   "metadata": {
    "collapsed": true
   },
   "outputs": [],
   "source": [
    "browser.quit()"
   ]
  },
  {
   "cell_type": "code",
   "execution_count": 199,
   "metadata": {
    "collapsed": false
   },
   "outputs": [
    {
     "data": {
      "text/plain": [
       "'[{\"values\": [{\"x\": 0, \"title\": \" Pol\\\\u00edcia prende suspeito de ter come\\\\u00e7ado 1\\\\u00ba tiroteio na UPP Santa Marta \", \"y\": 0}, {\"x\": 1, \"title\": \" Rio de Janeiro teve uma apreens\\\\u00e3o de fuzil por dia em 2015 \", \"y\": 0}, {\"x\": 2, \"title\": \" Mulher e menino s\\\\u00e3o baleados em tiroteio no Complexo do Alem\\\\u00e3o, no Rio \", \"y\": 2}, {\"x\": 3, \"title\": \" Entregador de pizza morto durante a\\\\u00e7\\\\u00e3o do Bope tinha dois empregos \", \"y\": 5846}], \"key\": \"Facebook\"}, {\"values\": [{\"x\": 0, \"title\": \" Pol\\\\u00edcia prende suspeito de ter come\\\\u00e7ado 1\\\\u00ba tiroteio na UPP Santa Marta \", \"y\": 5}, {\"x\": 1, \"title\": \" Rio de Janeiro teve uma apreens\\\\u00e3o de fuzil por dia em 2015 \", \"y\": 0}, {\"x\": 2, \"title\": \" Mulher e menino s\\\\u00e3o baleados em tiroteio no Complexo do Alem\\\\u00e3o, no Rio \", \"y\": 6}, {\"x\": 3, \"title\": \" Entregador de pizza morto durante a\\\\u00e7\\\\u00e3o do Bope tinha dois empregos \", \"y\": 18}], \"key\": \"Twitter\"}]'"
      ]
     },
     "execution_count": 199,
     "metadata": {},
     "output_type": "execute_result"
    }
   ],
   "source": [
    "json.dumps(result)"
   ]
  },
  {
   "cell_type": "markdown",
   "metadata": {},
   "source": [
    "#### Opção direto codigo fonte da pagina"
   ]
  },
  {
   "cell_type": "code",
   "execution_count": 44,
   "metadata": {
    "collapsed": false
   },
   "outputs": [],
   "source": [
    "page=urlopen(\"http://noticias.uol.com.br/cotidiano/temas/violencia-no-rio/noticias/\")\n",
    "soup = BeautifulSoup(page.read())"
   ]
  },
  {
   "cell_type": "code",
   "execution_count": 80,
   "metadata": {
    "collapsed": false
   },
   "outputs": [
    {
     "name": "stdout",
     "output_type": "stream",
     "text": [
      "http://noticias.uol.com.br/ultimas-noticias/agencia-estado/2015/07/02/policia-prende-suspeito-de-ter-atacado-upp-santa-marta.htm\n",
      "http://noticias.uol.com.br/ultimas-noticias/agencia-estado/2015/07/02/um-fuzil-por-dia-foi-apreendido-em-2015-no-rio-de-janeiro.htm\n",
      "http://noticias.uol.com.br/ultimas-noticias/agencia-estado/2015/07/02/duas-pessoas-sao-baleadas-em-tiroteio-no-complexo-do-alemao.htm\n",
      "http://noticias.uol.com.br/cotidiano/ultimas-noticias/2015/07/01/pm-de-folga-reage-a-tentativa-de-roubo-a-banco-no-rio-e-dois-morrem.htm\n",
      "http://noticias.uol.com.br/cotidiano/ultimas-noticias/2015/07/01/mulher-de-beira-mar-voltara-ao-regime-fechado-por-decisao-da-justica-do-rio.htm\n",
      "http://noticias.uol.com.br/ultimas-noticias/agencia-estado/2015/06/30/policia-militar-diz-que-nao-houve-refens-em-assalto-a-banco-no-rio.htm\n",
      "http://noticias.uol.com.br/ultimas-noticias/agencia-estado/2015/06/30/criminosos-fazem-refens-em-assalto-a-banco-na-zona-oeste-do-rio.htm\n",
      "http://noticias.uol.com.br/ultimas-noticias/agencia-estado/2015/06/30/entregador-morto-durante-operacao-do-bope-e-enterrado-no-rio.htm\n",
      "http://noticias.uol.com.br/ultimas-noticias/agencia-estado/2015/06/30/policiais-sao-presos-acusados-de-integrar-milicia-no-rio.htm\n",
      "http://noticias.uol.com.br/cotidiano/ultimas-noticias/2015/06/30/duas-pessoas-sao-baleadas-dentro-de-trem-no-rio.htm\n"
     ]
    }
   ],
   "source": [
    "for element in soup.body.find(\"div\", {\"class\":\"mod itens-indice\"}).find_all(\"li\"):\n",
    "    print(element.a['href'])"
   ]
  },
  {
   "cell_type": "code",
   "execution_count": null,
   "metadata": {
    "collapsed": true
   },
   "outputs": [],
   "source": []
  }
 ],
 "metadata": {
  "kernelspec": {
   "display_name": "Python 3",
   "language": "python",
   "name": "python3"
  },
  "language_info": {
   "codemirror_mode": {
    "name": "ipython",
    "version": 3
   },
   "file_extension": ".py",
   "mimetype": "text/x-python",
   "name": "python",
   "nbconvert_exporter": "python",
   "pygments_lexer": "ipython3",
   "version": "3.4.2"
  }
 },
 "nbformat": 4,
 "nbformat_minor": 0
}
